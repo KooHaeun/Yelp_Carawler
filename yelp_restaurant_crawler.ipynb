{
 "cells": [
  {
   "cell_type": "code",
   "execution_count": 1,
   "id": "99fe707f",
   "metadata": {},
   "outputs": [],
   "source": [
    "import pandas as pd\n",
    "import requests\n",
    "from bs4 import BeautifulSoup as bs\n",
    "from selenium import webdriver\n",
    "import time\n",
    "import math\n",
    "from tqdm import tqdm\n",
    "import random\n",
    "import urllib.request\n",
    "from selenium.webdriver.common.by import By\n",
    "from selenium.common.exceptions import NoSuchElementException\n",
    "from selenium.common.exceptions import ElementNotInteractableException\n"
   ]
  },
  {
   "cell_type": "code",
   "execution_count": 2,
   "id": "5d4962ef",
   "metadata": {},
   "outputs": [],
   "source": [
    "driver = webdriver.Chrome('/Users/heni1/chromedriver.exe')"
   ]
  },
  {
   "cell_type": "code",
   "execution_count": 3,
   "id": "462ae705",
   "metadata": {},
   "outputs": [],
   "source": [
    "#지역 식당 검색\n",
    "def search(location): \n",
    "    #지역 검색\n",
    "    url = 'https://www.yelp.com/'\n",
    "    driver.get(url)\n",
    "    time.sleep(2)\n",
    "\n",
    "    #Find\n",
    "    driver.find_element(By.ID, 'find_desc').click()\n",
    "    find = driver.find_element(By.ID, 'find_desc')\n",
    "    find.send_keys('Restaurants') \n",
    "\n",
    "    #Near\n",
    "    driver.find_element(By.ID, 'dropperText_Mast').click()\n",
    "    near = driver.find_element(By.ID, 'dropperText_Mast')\n",
    "    near.send_keys(location) \n",
    "\n",
    "    driver.find_element(By.ID, 'header-search-submit').click()\n"
   ]
  },
  {
   "cell_type": "code",
   "execution_count": 32,
   "id": "83e68342",
   "metadata": {},
   "outputs": [],
   "source": [
    "#한 식당 범주별 사진 수집\n",
    "def photo_crawler(driver, res_name):\n",
    "    #여기서 식당 정보 받아오면 대\n",
    "    driver.find_element(By.CLASS_NAME, 'css-1w8jvj').click()\n",
    "    time.sleep(3)\n",
    "    first = driver.current_url+'?tab={}'\n",
    "    tab_lst = []\n",
    "    for element in driver.find_elements(By.CLASS_NAME, 'tab-link_label'):\n",
    "        if element.text != '':\n",
    "            tab_lst.append(element.text)\n",
    "    for i in tab_lst:\n",
    "        if i != 'All' and i != 'Menu':\n",
    "            if i == 'Inside':\n",
    "                i = 'interior'\n",
    "            driver.get(first.format(i.lower()))\n",
    "            current_url = driver.current_url\n",
    "            html = driver.page_source\n",
    "            test = bs(html, 'html.parser')\n",
    "            num = 1 #사진이름\n",
    "            page_num = 0 #페이지번호\n",
    "\n",
    "            #저장경로\n",
    "            path = '/Users/heni1/Desktop/구하은/석사 1기/Yelp/Yelp_dataset/{}/'\n",
    "            path = path.format(i.lower())\n",
    "            page_num_result= test.find('div', class_ = 'page-of-pages arrange_unit arrange_unit--fill')#페이지 넘버있는 div\n",
    "            last_page_num = int(page_num_result.text.split('of ')[1].split('\\n')[0])# 페이지가 몇개가 있는지 \n",
    "\n",
    "                #범주별 사진 가져오기\n",
    "            for page_num in range(0, last_page_num): \n",
    "                driver.get(current_url+\"&start=\"+str(page_num*30))\n",
    "                time.sleep(3)\n",
    "\n",
    "                pic_html = driver.page_source\n",
    "                pic_test = bs(pic_html, 'html.parser')\n",
    "                result = pic_test.find('div', class_ = 'media-landing_gallery photos').find_all('div', 'photo-box photo-box--interactive')\n",
    "                imgUrl = [(div.find('img')['src']) for div in result]\n",
    "                for j in imgUrl:\n",
    "                    urllib.request.urlretrieve(j, path + res_name +'_'+ i.lower() +'_'+ str(num)+'.jpg')\n",
    "                    num+=1\n",
    "                page_num += 1"
   ]
  },
  {
   "cell_type": "code",
   "execution_count": 31,
   "id": "cdcb6fdf",
   "metadata": {},
   "outputs": [],
   "source": [
    "#한도시의 식당 싹 다 가능\n",
    "def res_crawler(location, df):   \n",
    "    new = []\n",
    "    search(location)\n",
    "    page = 0\n",
    "    loca_url = driver.current_url #도시 검색했을 때 url\n",
    "    html = driver.page_source\n",
    "    test = bs(html, 'html.parser')\n",
    "    loca_page_num = test.find('div', class_ = 'border-color--default__09f24__NPAKY text-align--center__09f24__fYBGO').find('span', class_ = 'css-chan6m')\n",
    "    loca_page_num = int(loca_page_num.text.split('of ')[1].split('\\n')[0]) #도시 검색 최대 페이지 수\n",
    "    for page in range(0, loca_page_num):\n",
    "        driver.get(loca_url+'&start='+str(page*10))\n",
    "        time.sleep(3)\n",
    "        loca_page_url = driver.current_url #\n",
    "        for i in range(9, 19):\n",
    "            driver.find_element_by_css_selector('#main-content > div > ul > li:nth-child('+str(i)+') > div').click()\n",
    "            res_name= res_info_crawler(driver, df)\n",
    "            photo_crawler(driver, res_name)\n",
    "            driver.get(loca_page_url)\n",
    "        page += 1 #도시 검색 페이지 더하기"
   ]
  },
  {
   "cell_type": "code",
   "execution_count": null,
   "id": "103440b5",
   "metadata": {},
   "outputs": [],
   "source": [
    "df =[]\n",
    "res_crawler('NewYork', df)\n",
    "new = pd.DataFrame(df, columns = ['name', 'rating', 'category', 'price', 'address'])\n",
    "new.to_csv('restaurant.csv')"
   ]
  },
  {
   "cell_type": "code",
   "execution_count": 28,
   "id": "16577b5b",
   "metadata": {},
   "outputs": [],
   "source": [
    "def res_info_crawler(driver, df): \n",
    "    html = driver.page_source\n",
    "    res_cate =[]\n",
    "    test = bs(html, 'html.parser')\n",
    "    category_nums = len(test.find_all('span', 'css-1fdy0l5'))\n",
    "    res_name = test.select('h1')[0].text\n",
    "    res_rating = float(str(test.select('body > yelp-react-root > div:nth-child(1) > div.photoHeader__09f24__nPvHp.border-color--default__09f24__NPAKY > div.photo-header-content-container__09f24__jDLBB.border-color--default__09f24__NPAKY > div.photo-header-content__09f24__q7rNO.padding-r2__09f24__ByXi4.border-color--default__09f24__NPAKY > div > div > div.arrange__09f24__LDfbs.gutter-1-5__09f24__vMtpw.vertical-align-middle__09f24__zU9sE.margin-b2__09f24__CEMjT.border-color--default__09f24__NPAKY > div:nth-child(1) > span > div')[0])[17:20])\n",
    "    for category_num in range(1, category_nums - 1):\n",
    "            cate = test.find_all('span', 'css-1fdy0l5')[category_num].text.split(',')[0]\n",
    "            res_cate.append(cate)\n",
    "    res_price = test.find_all('span','css-1ir4e44')[0].text\n",
    "    res_address = test.find_all('p', 'css-qyp8bo')[0].text\n",
    "    df.append([res_name, res_rating, res_cate, res_price, res_address])\n",
    "    return res_name\n",
    "    "
   ]
  },
  {
   "cell_type": "code",
   "execution_count": null,
   "id": "49b822f4",
   "metadata": {},
   "outputs": [],
   "source": []
  }
 ],
 "metadata": {
  "kernelspec": {
   "display_name": "Python 3 (ipykernel)",
   "language": "python",
   "name": "python3"
  },
  "language_info": {
   "codemirror_mode": {
    "name": "ipython",
    "version": 3
   },
   "file_extension": ".py",
   "mimetype": "text/x-python",
   "name": "python",
   "nbconvert_exporter": "python",
   "pygments_lexer": "ipython3",
   "version": "3.9.7"
  }
 },
 "nbformat": 4,
 "nbformat_minor": 5
}
